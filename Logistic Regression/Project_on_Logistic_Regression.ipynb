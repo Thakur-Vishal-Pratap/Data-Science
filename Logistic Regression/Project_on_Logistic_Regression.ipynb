{
  "nbformat": 4,
  "nbformat_minor": 0,
  "metadata": {
    "colab": {
      "name": "Project on Logistic Regression",
      "provenance": [],
      "authorship_tag": "ABX9TyMm48HQYxxU5Q+mblE/dKa+",
      "include_colab_link": true
    },
    "kernelspec": {
      "name": "python3",
      "display_name": "Python 3"
    },
    "language_info": {
      "name": "python"
    }
  },
  "cells": [
    {
      "cell_type": "markdown",
      "metadata": {
        "id": "view-in-github",
        "colab_type": "text"
      },
      "source": [
        "<a href=\"https://colab.research.google.com/github/Thakur-Vishal-Pratap/Data-Science/blob/main/Logistic%20Regression/Project_on_Logistic_Regression.ipynb\" target=\"_parent\"><img src=\"https://colab.research.google.com/assets/colab-badge.svg\" alt=\"Open In Colab\"/></a>"
      ]
    },
    {
      "cell_type": "code",
      "execution_count": null,
      "metadata": {
        "id": "DOB8DnlQlkkE"
      },
      "outputs": [],
      "source": [
        ""
      ]
    }
  ]
}